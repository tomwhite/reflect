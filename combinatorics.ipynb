{
 "cells": [
  {
   "cell_type": "markdown",
   "id": "07696890",
   "metadata": {},
   "source": [
    "# How many Reflect puzzles are there?"
   ]
  },
  {
   "cell_type": "markdown",
   "id": "e17e79aa",
   "metadata": {},
   "source": [
    "It's natural to wonder how many puzzles there are - in particular, are there enough \"interesting\" ones to keep publishing one every day?"
   ]
  },
  {
   "cell_type": "markdown",
   "id": "ed5ab9c0",
   "metadata": {},
   "source": [
    "## Counting Reflect boards mathematically"
   ]
  },
  {
   "cell_type": "markdown",
   "id": "0dc17f42",
   "metadata": {},
   "source": [
    "Let's think about boards first - ignoring the beams entirely for the moment.\n",
    "\n",
    "Let's see how far we can get mathematically.\n",
    "\n",
    "The number of ways of placing $p$ identical blocks (pieces) on an $N = n*n$ board is\n",
    "\n",
    "$${N \\choose p} = \\frac{N!}{p!(N - p)!}$$\n",
    "\n",
    "If there are $b$ types of block, then there are $b^p$ ways of choosing $p$ blocks (where order matters), and then the number of ways of placing $p$ blocks on the board is\n",
    "\n",
    "$$\\frac{{b^p}N!}{p!(N - p)!}$$\n",
    "\n",
    "Take the following example. On an $N = 4*4 = 16$ board, with $p=3$ blocks, and $b=3$ types (represented by `/`, `\\`, and `o`), the number of possible placements is\n",
    "\n",
    "$$\n",
    "\\frac{{b^p}N!}{p!(N - p)!} = \\frac{3^3 \\cdot 16!}{3!13!}\n",
    "                           = \\frac{27 \\cdot 16 \\cdot 15 \\cdot 14}{6}\n",
    "                           = 15120\n",
    "$$"
   ]
  },
  {
   "cell_type": "markdown",
   "id": "9ee9498d",
   "metadata": {},
   "source": [
    "We can calculate the total number of boards for increasing numbers of pieces with the following code:"
   ]
  },
  {
   "cell_type": "code",
   "execution_count": 1,
   "id": "c23de89a",
   "metadata": {},
   "outputs": [
    {
     "data": {
      "text/html": [
       "<div>\n",
       "<style scoped>\n",
       "    .dataframe tbody tr th:only-of-type {\n",
       "        vertical-align: middle;\n",
       "    }\n",
       "\n",
       "    .dataframe tbody tr th {\n",
       "        vertical-align: top;\n",
       "    }\n",
       "\n",
       "    .dataframe thead th {\n",
       "        text-align: right;\n",
       "    }\n",
       "</style>\n",
       "<table border=\"1\" class=\"dataframe\">\n",
       "  <thead>\n",
       "    <tr style=\"text-align: right;\">\n",
       "      <th></th>\n",
       "      <th>Number of pieces</th>\n",
       "      <th>Number of 4x4 boards</th>\n",
       "    </tr>\n",
       "  </thead>\n",
       "  <tbody>\n",
       "    <tr>\n",
       "      <th>0</th>\n",
       "      <td>1</td>\n",
       "      <td>48</td>\n",
       "    </tr>\n",
       "    <tr>\n",
       "      <th>1</th>\n",
       "      <td>2</td>\n",
       "      <td>1080</td>\n",
       "    </tr>\n",
       "    <tr>\n",
       "      <th>2</th>\n",
       "      <td>3</td>\n",
       "      <td>15120</td>\n",
       "    </tr>\n",
       "    <tr>\n",
       "      <th>3</th>\n",
       "      <td>4</td>\n",
       "      <td>147420</td>\n",
       "    </tr>\n",
       "    <tr>\n",
       "      <th>4</th>\n",
       "      <td>5</td>\n",
       "      <td>1061424</td>\n",
       "    </tr>\n",
       "    <tr>\n",
       "      <th>5</th>\n",
       "      <td>6</td>\n",
       "      <td>5837832</td>\n",
       "    </tr>\n",
       "    <tr>\n",
       "      <th>6</th>\n",
       "      <td>7</td>\n",
       "      <td>25019280</td>\n",
       "    </tr>\n",
       "  </tbody>\n",
       "</table>\n",
       "</div>"
      ],
      "text/plain": [
       "   Number of pieces  Number of 4x4 boards\n",
       "0                 1                    48\n",
       "1                 2                  1080\n",
       "2                 3                 15120\n",
       "3                 4                147420\n",
       "4                 5               1061424\n",
       "5                 6               5837832\n",
       "6                 7              25019280"
      ]
     },
     "execution_count": 1,
     "metadata": {},
     "output_type": "execute_result"
    }
   ],
   "source": [
    "from math import comb\n",
    "import pandas as pd\n",
    "rows = []\n",
    "for num_pieces in range(1, 8):\n",
    "    num_boards = comb(16, num_pieces) * pow(3, num_pieces)\n",
    "    rows.append([num_pieces, num_boards])\n",
    "pd.DataFrame(rows, columns=[\"Number of pieces\", \"Number of 4x4 boards\"])"
   ]
  },
  {
   "cell_type": "markdown",
   "id": "c70ac2e3",
   "metadata": {},
   "source": [
    "### Symmetries and equivalence classes\n",
    "\n",
    "The previous formula for placements counts all boards, even those that would be considered the same under a transformation. For example, the second board below is the first board rotated through 180&deg;:\n",
    "\n",
    "```\n",
    "/../  ...\\\n",
    "....  ....\n",
    "....  ....\n",
    "\\...  /../\n",
    "```\n",
    "\n",
    "A typical board belongs to an equivalence class of size eight (the symmetries are those of a square, called the dihedral group $D_4$). However, some have fewer in the class, such as this pair:\n",
    "\n",
    "```\n",
    "....  ....\n",
    "./..  ..\\.\n",
    "../.  .\\..\n",
    "....  ....\n",
    "```\n",
    "\n",
    "The following board is an equivalence class of size one, since it in unchanged under the eight transformations:\n",
    "\n",
    "```\n",
    "....\n",
    "./\\.\n",
    ".\\/.\n",
    "....\n",
    "```\n",
    "\n",
    "Since it is not easy to count these different cases mathematically, we turn to code to count them explicitly."
   ]
  },
  {
   "cell_type": "markdown",
   "id": "74aedc2e",
   "metadata": {},
   "source": [
    "## Counting Reflect boards with code"
   ]
  },
  {
   "cell_type": "markdown",
   "id": "7462d04f",
   "metadata": {},
   "source": [
    "Let's start by counting all the boards with a given number of pieces, just like we did above using a formula."
   ]
  },
  {
   "cell_type": "code",
   "execution_count": 2,
   "id": "09b7454d",
   "metadata": {},
   "outputs": [
    {
     "data": {
      "text/plain": [
       "15120"
      ]
     },
     "execution_count": 2,
     "metadata": {},
     "output_type": "execute_result"
    }
   ],
   "source": [
    "from reflect.count import *\n",
    "\n",
    "boards3 = all_boards(3)\n",
    "len(boards3)"
   ]
  },
  {
   "cell_type": "markdown",
   "id": "8649e9a0",
   "metadata": {},
   "source": [
    "This tallies with the number from the formula above.\n",
    "\n",
    "To understand how we can count boards that are the same under a transformation, take a look at the encoding for the boards. Each board is encoded as an 4-byte integer, with each piece on the board can be represented in 2 bits."
   ]
  },
  {
   "cell_type": "code",
   "execution_count": 3,
   "id": "d2ef4790",
   "metadata": {},
   "outputs": [
    {
     "data": {
      "text/plain": [
       "536871170"
      ]
     },
     "execution_count": 3,
     "metadata": {},
     "output_type": "execute_result"
    }
   ],
   "source": [
    "b = boards3[10000] # pick at random\n",
    "b"
   ]
  },
  {
   "cell_type": "markdown",
   "id": "3117ef1a",
   "metadata": {},
   "source": [
    "In binary this looks like"
   ]
  },
  {
   "cell_type": "code",
   "execution_count": 4,
   "id": "0c6e56c5",
   "metadata": {},
   "outputs": [
    {
     "data": {
      "text/plain": [
       "'0b100000000000000000000100000010'"
      ]
     },
     "execution_count": 4,
     "metadata": {},
     "output_type": "execute_result"
    }
   ],
   "source": [
    "bin(b)"
   ]
  },
  {
   "cell_type": "markdown",
   "id": "b7a58aa7",
   "metadata": {},
   "source": [
    "And if we stack it so it looks like a board"
   ]
  },
  {
   "cell_type": "code",
   "execution_count": 5,
   "id": "01d3be53",
   "metadata": {},
   "outputs": [
    {
     "name": "stdout",
     "output_type": "stream",
     "text": [
      "00100000\n",
      "00000000\n",
      "00000001\n",
      "00000010\n"
     ]
    }
   ],
   "source": [
    "import re\n",
    "val = bin(b)[2:].rjust(32, '0')\n",
    "print(\"\\n\".join(re.findall('........', val)))"
   ]
  },
  {
   "cell_type": "markdown",
   "id": "473c02f8",
   "metadata": {},
   "source": [
    "Using the `decode_board` function we can see what the board looks like, and the bit encoding for pieces (e.g. `\\` is `10`):"
   ]
  },
  {
   "cell_type": "code",
   "execution_count": 6,
   "id": "b9dc136d",
   "metadata": {},
   "outputs": [
    {
     "name": "stdout",
     "output_type": "stream",
     "text": [
      "......\n",
      "..\\...\n",
      "......\n",
      "..../.\n",
      "....\\.\n",
      "......\n"
     ]
    }
   ],
   "source": [
    "print(decode_board(b).puzzle_solution())"
   ]
  },
  {
   "cell_type": "markdown",
   "id": "58110d85",
   "metadata": {},
   "source": [
    "The board encoding makes it easy to transform the board using efficient bit operations. We can *canonicalize* a board by applying all the symmetry transforms to it, and then picking the encoding with the lowest value:"
   ]
  },
  {
   "cell_type": "code",
   "execution_count": 7,
   "id": "08781c04",
   "metadata": {},
   "outputs": [
    {
     "data": {
      "text/plain": [
       "65632"
      ]
     },
     "execution_count": 7,
     "metadata": {},
     "output_type": "execute_result"
    }
   ],
   "source": [
    "canonicalize_board(b)"
   ]
  },
  {
   "cell_type": "markdown",
   "id": "b4b5e970",
   "metadata": {},
   "source": [
    "In this case we can see that the canonicalized board is the original one rotated clockwise by 90&deg;."
   ]
  },
  {
   "cell_type": "code",
   "execution_count": 8,
   "id": "02bd8278",
   "metadata": {},
   "outputs": [
    {
     "name": "stdout",
     "output_type": "stream",
     "text": [
      "......\n",
      "......\n",
      "..../.\n",
      "......\n",
      "./\\...\n",
      "......\n"
     ]
    }
   ],
   "source": [
    "print(decode_board(canonicalize_board(b)).puzzle_solution())"
   ]
  },
  {
   "cell_type": "markdown",
   "id": "dbc5f863",
   "metadata": {},
   "source": [
    "Using the `canonicalize_board` function, it's easy to see how many distinct boards with 3 pieces there are, taking symmetries into account"
   ]
  },
  {
   "cell_type": "code",
   "execution_count": 9,
   "id": "ebe5b8f5",
   "metadata": {},
   "outputs": [
    {
     "data": {
      "text/plain": [
       "1971"
      ]
     },
     "execution_count": 9,
     "metadata": {},
     "output_type": "execute_result"
    }
   ],
   "source": [
    "import numpy as mp\n",
    "v_canonicalize_board = np.vectorize(canonicalize_board)\n",
    "len(np.unique(v_canonicalize_board(boards3)))"
   ]
  },
  {
   "cell_type": "markdown",
   "id": "907a4a4b",
   "metadata": {},
   "source": [
    "There is also a `canonical_boards` function that does the same thing, but more efficiently (using Numba)."
   ]
  },
  {
   "cell_type": "code",
   "execution_count": 10,
   "id": "cb94e6c0",
   "metadata": {},
   "outputs": [
    {
     "data": {
      "text/plain": [
       "1971"
      ]
     },
     "execution_count": 10,
     "metadata": {},
     "output_type": "execute_result"
    }
   ],
   "source": [
    "len(canonical_boards(3))"
   ]
  },
  {
   "cell_type": "markdown",
   "id": "1d4eb63e",
   "metadata": {},
   "source": [
    "We can use this function to count the number of distinct boards for different numbers of pieces."
   ]
  },
  {
   "cell_type": "code",
   "execution_count": 11,
   "id": "ef622d12",
   "metadata": {},
   "outputs": [
    {
     "name": "stdout",
     "output_type": "stream",
     "text": [
      "CPU times: user 11 s, sys: 6.11 s, total: 17.1 s\n",
      "Wall time: 17.4 s\n"
     ]
    },
    {
     "data": {
      "text/html": [
       "<div>\n",
       "<style scoped>\n",
       "    .dataframe tbody tr th:only-of-type {\n",
       "        vertical-align: middle;\n",
       "    }\n",
       "\n",
       "    .dataframe tbody tr th {\n",
       "        vertical-align: top;\n",
       "    }\n",
       "\n",
       "    .dataframe thead th {\n",
       "        text-align: right;\n",
       "    }\n",
       "</style>\n",
       "<table border=\"1\" class=\"dataframe\">\n",
       "  <thead>\n",
       "    <tr style=\"text-align: right;\">\n",
       "      <th></th>\n",
       "      <th>Number of pieces</th>\n",
       "      <th>Number of 4x4 boards</th>\n",
       "      <th>Number of distinct 4x4 boards</th>\n",
       "    </tr>\n",
       "  </thead>\n",
       "  <tbody>\n",
       "    <tr>\n",
       "      <th>0</th>\n",
       "      <td>1</td>\n",
       "      <td>48</td>\n",
       "      <td>9</td>\n",
       "    </tr>\n",
       "    <tr>\n",
       "      <th>1</th>\n",
       "      <td>2</td>\n",
       "      <td>1080</td>\n",
       "      <td>162</td>\n",
       "    </tr>\n",
       "    <tr>\n",
       "      <th>2</th>\n",
       "      <td>3</td>\n",
       "      <td>15120</td>\n",
       "      <td>1971</td>\n",
       "    </tr>\n",
       "    <tr>\n",
       "      <th>3</th>\n",
       "      <td>4</td>\n",
       "      <td>147420</td>\n",
       "      <td>18822</td>\n",
       "    </tr>\n",
       "    <tr>\n",
       "      <th>4</th>\n",
       "      <td>5</td>\n",
       "      <td>1061424</td>\n",
       "      <td>133569</td>\n",
       "    </tr>\n",
       "    <tr>\n",
       "      <th>5</th>\n",
       "      <td>6</td>\n",
       "      <td>5837832</td>\n",
       "      <td>732618</td>\n",
       "    </tr>\n",
       "    <tr>\n",
       "      <th>6</th>\n",
       "      <td>7</td>\n",
       "      <td>25019280</td>\n",
       "      <td>3132675</td>\n",
       "    </tr>\n",
       "  </tbody>\n",
       "</table>\n",
       "</div>"
      ],
      "text/plain": [
       "   Number of pieces  Number of 4x4 boards  Number of distinct 4x4 boards\n",
       "0                 1                    48                              9\n",
       "1                 2                  1080                            162\n",
       "2                 3                 15120                           1971\n",
       "3                 4                147420                          18822\n",
       "4                 5               1061424                         133569\n",
       "5                 6               5837832                         732618\n",
       "6                 7              25019280                        3132675"
      ]
     },
     "execution_count": 11,
     "metadata": {},
     "output_type": "execute_result"
    }
   ],
   "source": [
    "%%time\n",
    "from math import comb\n",
    "import pandas as pd\n",
    "rows = []\n",
    "for num_pieces in range(1, 8):\n",
    "    num_boards = comb(16, num_pieces) * pow(3, num_pieces)\n",
    "    assert num_boards == len(all_boards(num_pieces))\n",
    "    rows.append([num_pieces, num_boards, len(canonical_boards(num_pieces))])\n",
    "pd.DataFrame(rows, columns=[\"Number of pieces\", \"Number of 4x4 boards\", \"Number of distinct 4x4 boards\"])"
   ]
  },
  {
   "cell_type": "markdown",
   "id": "599aff37",
   "metadata": {},
   "source": [
    "## Counting Reflect puzzles"
   ]
  },
  {
   "cell_type": "markdown",
   "id": "27fb2415",
   "metadata": {},
   "source": [
    "So far, we've only considered block placement, and have ignored beams. A Reflect puzzle has a number of beams around the edges of the board, which may be chosen by the puzzle setter. This means that each board can correspond to a potentially large number of puzzles.\n",
    "\n",
    "To simplify things, imagine that all beams have been arranged around the edge of the board. The question then becomes, does the puzzle have a unique solution? The answer is not always yes, as the following counterexample shows:\n",
    "\n",
    "```\n",
    ".EFBH.  .EFBH.\n",
    "A....A  A....A\n",
    "B../\\H  B../.H\n",
    "C.../G  C..\\/G\n",
    "D....D  D....D\n",
    ".EFCG.  .EFCG.\n",
    "```\n",
    "\n",
    "It's also clear that _removing_ beams won't make the puzzle have a unique solution.\n",
    "\n",
    "So how do we find the number of unique puzzles for a given number of pieces?\n",
    "\n",
    "For every canonical board, we encode the pieces and the beams for that board and canonicalize them together. That allows us to find combinations of pieces and beams that have more than one associated board (i.e. puzzles that are *not* unique) - so we can filter those out to find the puzzles (pieces and beams) that *are* unique.\n",
    "\n",
    "The code to do this is wrapped up in a function called `canonical_puzzles_with_unique_solution`. We can use it to find the number of unique 3 piece puzzles:"
   ]
  },
  {
   "cell_type": "code",
   "execution_count": 12,
   "id": "4aa45ad6",
   "metadata": {},
   "outputs": [
    {
     "data": {
      "text/plain": [
       "(1541, 1541)"
      ]
     },
     "execution_count": 12,
     "metadata": {},
     "output_type": "execute_result"
    }
   ],
   "source": [
    "canonical_beams, canonical_pieces = canonical_puzzles_with_unique_solution(3)\n",
    "len(canonical_beams), len(canonical_pieces)"
   ]
  },
  {
   "cell_type": "markdown",
   "id": "37a4e3bf",
   "metadata": {},
   "source": [
    "Summarizing for different numbers of pieces:"
   ]
  },
  {
   "cell_type": "code",
   "execution_count": 13,
   "id": "804a5ba1",
   "metadata": {},
   "outputs": [
    {
     "name": "stdout",
     "output_type": "stream",
     "text": [
      "CPU times: user 1min 45s, sys: 9.46 s, total: 1min 55s\n",
      "Wall time: 1min 55s\n"
     ]
    },
    {
     "data": {
      "text/html": [
       "<div>\n",
       "<style scoped>\n",
       "    .dataframe tbody tr th:only-of-type {\n",
       "        vertical-align: middle;\n",
       "    }\n",
       "\n",
       "    .dataframe tbody tr th {\n",
       "        vertical-align: top;\n",
       "    }\n",
       "\n",
       "    .dataframe thead th {\n",
       "        text-align: right;\n",
       "    }\n",
       "</style>\n",
       "<table border=\"1\" class=\"dataframe\">\n",
       "  <thead>\n",
       "    <tr style=\"text-align: right;\">\n",
       "      <th></th>\n",
       "      <th>Number of pieces</th>\n",
       "      <th>Number of 4x4 boards</th>\n",
       "      <th>Number of distinct 4x4 boards</th>\n",
       "      <th>Number of distinct 4x4 puzzles with a unique solution</th>\n",
       "    </tr>\n",
       "  </thead>\n",
       "  <tbody>\n",
       "    <tr>\n",
       "      <th>0</th>\n",
       "      <td>1</td>\n",
       "      <td>48</td>\n",
       "      <td>9</td>\n",
       "      <td>9</td>\n",
       "    </tr>\n",
       "    <tr>\n",
       "      <th>1</th>\n",
       "      <td>2</td>\n",
       "      <td>1080</td>\n",
       "      <td>162</td>\n",
       "      <td>149</td>\n",
       "    </tr>\n",
       "    <tr>\n",
       "      <th>2</th>\n",
       "      <td>3</td>\n",
       "      <td>15120</td>\n",
       "      <td>1971</td>\n",
       "      <td>1541</td>\n",
       "    </tr>\n",
       "    <tr>\n",
       "      <th>3</th>\n",
       "      <td>4</td>\n",
       "      <td>147420</td>\n",
       "      <td>18822</td>\n",
       "      <td>11047</td>\n",
       "    </tr>\n",
       "    <tr>\n",
       "      <th>4</th>\n",
       "      <td>5</td>\n",
       "      <td>1061424</td>\n",
       "      <td>133569</td>\n",
       "      <td>49346</td>\n",
       "    </tr>\n",
       "    <tr>\n",
       "      <th>5</th>\n",
       "      <td>6</td>\n",
       "      <td>5837832</td>\n",
       "      <td>732618</td>\n",
       "      <td>135210</td>\n",
       "    </tr>\n",
       "    <tr>\n",
       "      <th>6</th>\n",
       "      <td>7</td>\n",
       "      <td>25019280</td>\n",
       "      <td>3132675</td>\n",
       "      <td>216008</td>\n",
       "    </tr>\n",
       "  </tbody>\n",
       "</table>\n",
       "</div>"
      ],
      "text/plain": [
       "   Number of pieces  Number of 4x4 boards  Number of distinct 4x4 boards   \n",
       "0                 1                    48                              9  \\\n",
       "1                 2                  1080                            162   \n",
       "2                 3                 15120                           1971   \n",
       "3                 4                147420                          18822   \n",
       "4                 5               1061424                         133569   \n",
       "5                 6               5837832                         732618   \n",
       "6                 7              25019280                        3132675   \n",
       "\n",
       "   Number of distinct 4x4 puzzles with a unique solution  \n",
       "0                                                  9      \n",
       "1                                                149      \n",
       "2                                               1541      \n",
       "3                                              11047      \n",
       "4                                              49346      \n",
       "5                                             135210      \n",
       "6                                             216008      "
      ]
     },
     "execution_count": 13,
     "metadata": {},
     "output_type": "execute_result"
    }
   ],
   "source": [
    "%%time\n",
    "import pandas as pd\n",
    "rows = []\n",
    "for num_pieces in range(1, 8):\n",
    "    canonical_beams, canonical_pieces = canonical_puzzles_with_unique_solution(\n",
    "        num_pieces=num_pieces\n",
    "    )\n",
    "    assert len(canonical_beams) == len(canonical_pieces)\n",
    "    rows.append([num_pieces, len(all_boards(num_pieces)), len(canonical_boards(num_pieces)), len(canonical_beams)])\n",
    "pd.DataFrame(rows, columns=[\"Number of pieces\", \"Number of 4x4 boards\", \"Number of distinct 4x4 boards\", \"Number of distinct 4x4 puzzles with a unique solution\"])"
   ]
  },
  {
   "cell_type": "markdown",
   "id": "a6053e13",
   "metadata": {},
   "source": [
    "For puzzles with 7 pieces, the vast majority of distinct boards (over 90%) are not unique. But even so, there are over 500 years of daily puzzles with 7 pieces!"
   ]
  },
  {
   "cell_type": "markdown",
   "id": "30f59e13",
   "metadata": {},
   "source": [
    "## All the puzzles"
   ]
  },
  {
   "cell_type": "markdown",
   "id": "980db9b6",
   "metadata": {},
   "source": [
    "Here's an idea: what we computed an index of all the possible puzzles just once? Then we could use the index to **count** the number of puzzles with certain properties (like uniqueness). We could also use it to **solve** puzzles by searching the index, or to **generate** puzzles by sampling the index.\n",
    "\n",
    "Here's what it looks like:"
   ]
  },
  {
   "cell_type": "code",
   "execution_count": 14,
   "id": "36653233",
   "metadata": {},
   "outputs": [
    {
     "data": {
      "text/plain": [
       "(15120, 15120, 15120, 15120)"
      ]
     },
     "execution_count": 14,
     "metadata": {},
     "output_type": "execute_result"
    }
   ],
   "source": [
    "duplicate_groups, board_index, beam_index, piece_index = all_puzzles(3)\n",
    "len(duplicate_groups), len(board_index), len(beam_index), len(piece_index)"
   ]
  },
  {
   "cell_type": "markdown",
   "id": "6108424d",
   "metadata": {},
   "source": [
    "The `all_puzzles` function returns four 1-D arrays, encoding the duplicate group, the boards, the beams, and the pieces for each puzzle. Each array has the same length, and the entries in the arrays at a given position correspond to each other, so `piece_index` will have the pieces for a particular board in `board_index`, for example.\n",
    "\n",
    "Notice that the values are *not* canonicalized, we've got all transformations in this data. "
   ]
  },
  {
   "cell_type": "markdown",
   "id": "09cc2954",
   "metadata": {},
   "source": [
    "### Solving a puzzle\n",
    "\n",
    "Let's use the index to solve this puzzle"
   ]
  },
  {
   "cell_type": "code",
   "execution_count": 15,
   "id": "c4cdacae",
   "metadata": {},
   "outputs": [],
   "source": [
    "beams = \"\"\"\n",
    "..CDA.\n",
    "B.....\n",
    "......\n",
    ".....A\n",
    "......\n",
    "..CDB.\n",
    "\"\"\"\n",
    "pieces = [\"\\\\\", \"\\\\\", \"\\\\\"]\n",
    "from reflect import Puzzle\n",
    "puzzle = Puzzle.create(beams, pieces)"
   ]
  },
  {
   "cell_type": "markdown",
   "id": "a7597586",
   "metadata": {},
   "source": [
    "First we're going to use `duplicate_groups` to find all the puzzles with one solution."
   ]
  },
  {
   "cell_type": "code",
   "execution_count": 16,
   "id": "89dce9bb",
   "metadata": {},
   "outputs": [
    {
     "data": {
      "text/plain": [
       "(11952, 11952, 11952)"
      ]
     },
     "execution_count": 16,
     "metadata": {},
     "output_type": "execute_result"
    }
   ],
   "source": [
    "single_solution_boards = board_index[duplicate_groups == 0]\n",
    "single_solution_beams = beam_index[duplicate_groups == 0]\n",
    "single_solution_pieces = piece_index[duplicate_groups == 0]\n",
    "len(single_solution_boards), len(single_solution_beams), len(single_solution_pieces)"
   ]
  },
  {
   "cell_type": "markdown",
   "id": "3c2924bf",
   "metadata": {},
   "source": [
    "Now we're going to filter by pieces to restrict to puzzles with just the pieces in the puzzle we are interested in:"
   ]
  },
  {
   "cell_type": "code",
   "execution_count": 17,
   "id": "88deca91",
   "metadata": {},
   "outputs": [
    {
     "data": {
      "text/plain": [
       "array([2, 2, 2], dtype=int8)"
      ]
     },
     "execution_count": 17,
     "metadata": {},
     "output_type": "execute_result"
    }
   ],
   "source": [
    "puzzle.pieces_ints"
   ]
  },
  {
   "cell_type": "code",
   "execution_count": 18,
   "id": "77e0fac0",
   "metadata": {},
   "outputs": [
    {
     "data": {
      "text/plain": [
       "48"
      ]
     },
     "execution_count": 18,
     "metadata": {},
     "output_type": "execute_result"
    }
   ],
   "source": [
    "pieces_val = encode_pieces_from_ints(puzzle.pieces_ints)\n",
    "pieces_val"
   ]
  },
  {
   "cell_type": "code",
   "execution_count": 19,
   "id": "ab3f16af",
   "metadata": {},
   "outputs": [
    {
     "data": {
      "text/plain": [
       "(488, 488)"
      ]
     },
     "execution_count": 19,
     "metadata": {},
     "output_type": "execute_result"
    }
   ],
   "source": [
    "boards_with_pieces = single_solution_boards[single_solution_pieces == pieces_val]\n",
    "beams_with_pieces = single_solution_beams[single_solution_pieces == pieces_val]\n",
    "len(boards_with_pieces), len(beams_with_pieces)"
   ]
  },
  {
   "cell_type": "markdown",
   "id": "32f604aa",
   "metadata": {},
   "source": [
    "Let's look at one of the boards just to check it has the pieces we expect:"
   ]
  },
  {
   "cell_type": "code",
   "execution_count": 20,
   "id": "8714f177",
   "metadata": {},
   "outputs": [
    {
     "name": "stdout",
     "output_type": "stream",
     "text": [
      "......\n",
      ".\\....\n",
      "..\\\\..\n",
      "......\n",
      "......\n",
      "......\n"
     ]
    }
   ],
   "source": [
    "print(decode_board(boards_with_pieces[7]).puzzle_solution())"
   ]
  },
  {
   "cell_type": "markdown",
   "id": "fe002f20",
   "metadata": {},
   "source": [
    "It does, but they are not the solution to the puzzle, since we haven't taken beams into account.\n",
    "\n",
    "We want to filter by beams, however, `beam_index` encodes for all beams in a puzzle, whereas the puzzle we are interested in does not have beams for all edges.\n",
    "\n",
    "What we can do is use a bit mask to indicate which beams are encoded. The edge positions that have no beam will be set to 0 and masked out. This procedure finds all puzzles that have the beams that are set, while anything that is not set is a wildcard and is not constrained."
   ]
  },
  {
   "cell_type": "code",
   "execution_count": 21,
   "id": "3fb099cb",
   "metadata": {},
   "outputs": [
    {
     "data": {
      "text/plain": [
       "1"
      ]
     },
     "execution_count": 21,
     "metadata": {},
     "output_type": "execute_result"
    }
   ],
   "source": [
    "beams_val, beams_mask = encode_beams_from_puzzle(puzzle)\n",
    "beams_index = (beams_with_pieces & beams_mask) == beams_val\n",
    "matching_boards = boards_with_pieces[beams_index]\n",
    "len(matching_boards)"
   ]
  },
  {
   "cell_type": "markdown",
   "id": "49ad7395",
   "metadata": {},
   "source": [
    "We found one match! Here is the board, which is clearly the correct solution:"
   ]
  },
  {
   "cell_type": "code",
   "execution_count": 22,
   "id": "2b1d3540",
   "metadata": {},
   "outputs": [
    {
     "name": "stdout",
     "output_type": "stream",
     "text": [
      "......\n",
      ".\\....\n",
      "......\n",
      ".\\..\\.\n",
      "......\n",
      "......\n",
      "\n",
      "..CDA.\n",
      "B.....\n",
      "......\n",
      ".....A\n",
      "......\n",
      "..CDB.\n",
      "\n"
     ]
    }
   ],
   "source": [
    "print(decode_board(matching_boards[0]).puzzle_solution())\n",
    "print(beams)"
   ]
  },
  {
   "cell_type": "markdown",
   "id": "05af4694",
   "metadata": {},
   "source": [
    "The nice thing about this algorithm for solving a puzzle is that it turns a brute-force search that tries every possible combination of pieces on the board, into what is essentially a scan through a bunch of integers - which is much faster."
   ]
  },
  {
   "cell_type": "markdown",
   "id": "e9decfe1",
   "metadata": {},
   "source": [
    "### Generating a puzzle\n",
    "\n",
    "We can choose a random row from the index to generate a board that we could set as a puzzle:"
   ]
  },
  {
   "cell_type": "code",
   "execution_count": 23,
   "id": "2dd62e05",
   "metadata": {},
   "outputs": [
    {
     "name": "stdout",
     "output_type": "stream",
     "text": [
      ".ABCD.\n",
      "E....E\n",
      "Fo...J\n",
      "G\\...K\n",
      "H..o.L\n",
      ".GBID.\n"
     ]
    }
   ],
   "source": [
    "from numpy.random import choice\n",
    "val = choice(single_solution_boards)\n",
    "board = decode_board(val)\n",
    "\n",
    "# turn on all beams\n",
    "for x, y in board.edge_locations():\n",
    "    if board.values[y, x] == \".\":\n",
    "        board.add_beam(x, y)\n",
    "\n",
    "print(board.puzzle_solution())"
   ]
  },
  {
   "cell_type": "markdown",
   "id": "634b9008",
   "metadata": {},
   "source": [
    "However, this puzzle has all beams around the edge, whereas we would like to set a more interesting puzzle that only has a subset of beams.\n",
    "\n",
    "We can't just remove beams, as then the puzzle would not necessarily be unique.\n",
    "\n",
    "What we can do though, is try turning the beam at each edge on or off and checking to see if the puzzle solution is unique using the solving algorithm above. We can then choose the puzzle with the fewest number of beams.\n",
    "\n",
    "The maximum number of beams is 16, which works out at $2^{16}=65536$ beam patterns, but in practice there are usually many fewer (since mirror balls are usually few in number)."
   ]
  },
  {
   "cell_type": "code",
   "execution_count": 24,
   "id": "5582e511",
   "metadata": {},
   "outputs": [
    {
     "name": "stdout",
     "output_type": "stream",
     "text": [
      ".A.C..\n",
      "......\n",
      ".o...J\n",
      "G\\....\n",
      "H..o..\n",
      ".G....\n"
     ]
    }
   ],
   "source": [
    "from reflect.generate import quick_minimise\n",
    "b = quick_minimise(board)\n",
    "print(b.puzzle_solution())"
   ]
  },
  {
   "cell_type": "markdown",
   "id": "5e944bec",
   "metadata": {},
   "source": [
    "This is the basis of the algorithm I use to generate Reflect puzzles."
   ]
  },
  {
   "cell_type": "code",
   "execution_count": null,
   "id": "4c22cfed",
   "metadata": {},
   "outputs": [],
   "source": []
  }
 ],
 "metadata": {
  "kernelspec": {
   "display_name": "Python 3 (ipykernel)",
   "language": "python",
   "name": "python3"
  },
  "language_info": {
   "codemirror_mode": {
    "name": "ipython",
    "version": 3
   },
   "file_extension": ".py",
   "mimetype": "text/x-python",
   "name": "python",
   "nbconvert_exporter": "python",
   "pygments_lexer": "ipython3",
   "version": "3.9.16"
  }
 },
 "nbformat": 4,
 "nbformat_minor": 5
}
